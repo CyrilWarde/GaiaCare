{
 "cells": [
  {
   "cell_type": "markdown",
   "id": "137cd3d4",
   "metadata": {},
   "source": [
    "## encoder"
   ]
  },
  {
   "cell_type": "code",
   "execution_count": 6,
   "id": "141fc77d",
   "metadata": {},
   "outputs": [],
   "source": [
    "#upload image\n",
    "import PIL \n",
    "import numpy as np\n",
    "import base64\n",
    "import requests\n",
    "import json\n",
    "from PIL import Image\n",
    "\n",
    "#open image and convert to RGB\n",
    "\n",
    "test_pic = Image.open('/Users/admin/code/CyrilWarde/gaiacare_front/gaiacare_front/tests/test.JPG').convert('RGB')\n",
    "\n",
    "#turn to array\n",
    "test_pic_array = np.array(test_pic)\n",
    "\n",
    "#switch to U-Int 8\n",
    "test_pic_array = test_pic_array.astype('uint8')\n",
    "\n",
    "#memorizing shape\n",
    "height, width, channel = test_pic_array.shape\n",
    "\n",
    "#reshape\n",
    "test_pic_array = test_pic_array.reshape(height*width*channel)\n",
    "\n",
    "# encoding to b64\n",
    "b64bytes = base64.b64encode(test_pic_array)\n",
    "\n",
    "#decoding to utf8 and turning to  string\n",
    "b64str = b64bytes.decode('utf8').replace(\"'\", '\"')\n",
    "\n",
    "image_dict = {\n",
    "    'image': b64str,\n",
    "    'height': height,\n",
    "    'width': width, \n",
    "     'channel': channel\n",
    "}\n",
    "\n",
    "headers= {\n",
    "    'Content_Type': 'application/json'\n",
    "}\n",
    "\n",
    "v = requests.post('http://127.0.0.1:8000/predict', json.dumps(image_dict), headers=headers)\n",
    "    "
   ]
  },
  {
   "cell_type": "code",
   "execution_count": 7,
   "id": "6ef3f714",
   "metadata": {},
   "outputs": [
    {
     "data": {
      "text/plain": [
       "<Response [200]>"
      ]
     },
     "execution_count": 7,
     "metadata": {},
     "output_type": "execute_result"
    }
   ],
   "source": [
    "v"
   ]
  },
  {
   "cell_type": "code",
   "execution_count": null,
   "id": "32765996",
   "metadata": {},
   "outputs": [],
   "source": []
  }
 ],
 "metadata": {
  "kernelspec": {
   "display_name": "Python 3 (ipykernel)",
   "language": "python",
   "name": "python3"
  },
  "language_info": {
   "codemirror_mode": {
    "name": "ipython",
    "version": 3
   },
   "file_extension": ".py",
   "mimetype": "text/x-python",
   "name": "python",
   "nbconvert_exporter": "python",
   "pygments_lexer": "ipython3",
   "version": "3.8.12"
  },
  "toc": {
   "base_numbering": 1,
   "nav_menu": {},
   "number_sections": true,
   "sideBar": true,
   "skip_h1_title": false,
   "title_cell": "Table of Contents",
   "title_sidebar": "Contents",
   "toc_cell": false,
   "toc_position": {},
   "toc_section_display": true,
   "toc_window_display": false
  }
 },
 "nbformat": 4,
 "nbformat_minor": 5
}
