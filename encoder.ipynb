{
 "cells": [
  {
   "cell_type": "markdown",
   "id": "137cd3d4",
   "metadata": {},
   "source": [
    "## encoder"
   ]
  },
  {
   "cell_type": "code",
   "execution_count": 18,
   "id": "141fc77d",
   "metadata": {},
   "outputs": [
    {
     "name": "stdout",
     "output_type": "stream",
     "text": [
      "b'\"Tomato___Leaf_Mold\"'\n",
      "b'\"Strawberry___Leaf_scorch\"'\n",
      "b'\"Squash___Powdery_mildew\"'\n",
      "b'\"Grape___Esca_(Black_Measles)\"'\n"
     ]
    }
   ],
   "source": [
    "#upload image\n",
    "import PIL \n",
    "import numpy as np\n",
    "import base64\n",
    "import requests\n",
    "import json\n",
    "from PIL import Image\n",
    "\n",
    "#open image and convert to RGB\n",
    "\n",
    "\n",
    "paths = [\n",
    "    '/Users/admin/Desktop/plantvillage/color/Tomato___Leaf_Mold/0a555f63-bf03-4958-8993-e1932b8dce9f___Crnl_L.Mold 9064.JPG',\n",
    "    '/Users/admin/Desktop/plantvillage/color/Strawberry___Leaf_scorch/0a99c28d-18e3-4250-bac6-84a810438e0b___RS_L.Scorch 0154.JPG',\n",
    "    '/Users/admin/Desktop/plantvillage/color/Squash___Powdery_mildew/0c7b65a8-3ff3-4116-84c0-fb7661cdae36___MD_Powd.M 0916.JPG',\n",
    "    '/Users/admin/Desktop/plantvillage/color/Grape___Esca_(Black_Measles)/0ab276b8-1342-4b3b-a87d-620880112e9c___FAM_B.Msls 1009.JPG'\n",
    "]\n",
    "\n",
    "\n",
    "for path in paths:\n",
    "    test_pic = Image.open(path).convert('RGB')\n",
    "\n",
    "    #turn to array\n",
    "    test_pic_array = np.array(test_pic)\n",
    "\n",
    "    #switch to U-Int 8\n",
    "    test_pic_array = test_pic_array.astype('uint8')\n",
    "\n",
    "    #memorizing shape\n",
    "    height, width, channel = test_pic_array.shape\n",
    "\n",
    "    #reshape\n",
    "    test_pic_array = test_pic_array.reshape(height*width*channel)\n",
    "\n",
    "    # encoding to b64\n",
    "    b64bytes = base64.b64encode(test_pic_array)\n",
    "\n",
    "    #decoding to utf8 and turning to  string\n",
    "    b64str = b64bytes.decode('utf8').replace(\"'\", '\"')\n",
    "\n",
    "    image_dict = {\n",
    "        'image': b64str,\n",
    "        'height': height,\n",
    "        'width': width, \n",
    "         'channel': channel\n",
    "    }\n",
    "\n",
    "    headers= {\n",
    "        'Content_Type': 'application/json'\n",
    "    }\n",
    "\n",
    "    v = requests.post('https://dummy-gaia-api-ndgviyvkja-ew.a.run.app/predict_grad_cam', json.dumps(image_dict), headers=headers)\n",
    "    print(v.content)\n"
   ]
  },
  {
   "cell_type": "code",
   "execution_count": 16,
   "id": "6ef3f714",
   "metadata": {},
   "outputs": [
    {
     "data": {
      "text/plain": [
       "b'\"Tomato___Target_Spot\"'"
      ]
     },
     "execution_count": 16,
     "metadata": {},
     "output_type": "execute_result"
    }
   ],
   "source": [
    "v.content"
   ]
  },
  {
   "cell_type": "code",
   "execution_count": null,
   "id": "32765996",
   "metadata": {},
   "outputs": [],
   "source": []
  }
 ],
 "metadata": {
  "kernelspec": {
   "display_name": "Python 3 (ipykernel)",
   "language": "python",
   "name": "python3"
  },
  "language_info": {
   "codemirror_mode": {
    "name": "ipython",
    "version": 3
   },
   "file_extension": ".py",
   "mimetype": "text/x-python",
   "name": "python",
   "nbconvert_exporter": "python",
   "pygments_lexer": "ipython3",
   "version": "3.8.12"
  },
  "toc": {
   "base_numbering": 1,
   "nav_menu": {},
   "number_sections": true,
   "sideBar": true,
   "skip_h1_title": false,
   "title_cell": "Table of Contents",
   "title_sidebar": "Contents",
   "toc_cell": false,
   "toc_position": {},
   "toc_section_display": true,
   "toc_window_display": false
  }
 },
 "nbformat": 4,
 "nbformat_minor": 5
}
